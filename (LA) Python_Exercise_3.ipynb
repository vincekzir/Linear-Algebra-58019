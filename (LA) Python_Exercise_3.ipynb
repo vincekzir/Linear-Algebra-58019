{
  "nbformat": 4,
  "nbformat_minor": 0,
  "metadata": {
    "colab": {
      "name": "(LA) Linear Transformation - Coding Act 3.ipynb",
      "provenance": [],
      "collapsed_sections": [],
      "authorship_tag": "ABX9TyPpyedmv3CP/gy6Vz32hSwO",
      "include_colab_link": true
    },
    "kernelspec": {
      "name": "python3",
      "display_name": "Python 3"
    },
    "language_info": {
      "name": "python"
    }
  },
  "cells": [
    {
      "cell_type": "markdown",
      "metadata": {
        "id": "view-in-github",
        "colab_type": "text"
      },
      "source": [
        "<a href=\"https://colab.research.google.com/github/vincev16/Linear-Algebra-58019/blob/main/(LA)%20Linear_Transformation_Coding_Act_3.ipynb\" target=\"_parent\"><img src=\"https://colab.research.google.com/assets/colab-badge.svg\" alt=\"Open In Colab\"/></a>"
      ]
    },
    {
      "cell_type": "markdown",
      "metadata": {
        "id": "D1IdXnCwQ-SY"
      },
      "source": [
        "**Given Equations:**\n",
        "\n",
        "4x +10y+8z = 44\n",
        "\n",
        "10x+26y+26z = 128\n",
        "\n",
        "8x+26y+61z = 214"
      ]
    },
    {
      "cell_type": "code",
      "metadata": {
        "id": "kxC6QG3xQ1cM",
        "colab": {
          "base_uri": "https://localhost:8080/"
        },
        "outputId": "f871b418-ac57-4404-dc08-d7c59f81fff5"
      },
      "source": [
        "import numpy as np\n",
        "\n",
        "mA = np.array([[4,10,8],[10,26,26],[8,26,61]]) #creation of matrix A\n",
        "print(\"Matrix A\")\n",
        "print(mA)\n",
        "\n",
        "inv_mA = np.linalg.inv(mA) #inversed matrix A\n",
        "print(\"INVERSED Matrix A\")\n",
        "print(inv_mA)"
      ],
      "execution_count": 7,
      "outputs": [
        {
          "output_type": "stream",
          "name": "stdout",
          "text": [
            "Matrix A\n",
            "[[ 4 10  8]\n",
            " [10 26 26]\n",
            " [ 8 26 61]]\n",
            "INVERSED Matrix A\n",
            "[[ 25.27777778 -11.16666667   1.44444444]\n",
            " [-11.16666667   5.          -0.66666667]\n",
            " [  1.44444444  -0.66666667   0.11111111]]\n"
          ]
        }
      ]
    },
    {
      "cell_type": "code",
      "metadata": {
        "colab": {
          "base_uri": "https://localhost:8080/"
        },
        "id": "df0te0uTR2Pl",
        "outputId": "0430c08b-33b6-4663-b19d-822cfa267674"
      },
      "source": [
        "mB = np.array([[44],[128],[214]]) #creation of matrix B\n",
        "print(\"Matrix B\")\n",
        "print(mB)"
      ],
      "execution_count": 11,
      "outputs": [
        {
          "output_type": "stream",
          "name": "stdout",
          "text": [
            "Matrix B\n",
            "[[ 44]\n",
            " [128]\n",
            " [214]]\n"
          ]
        }
      ]
    },
    {
      "cell_type": "code",
      "metadata": {
        "colab": {
          "base_uri": "https://localhost:8080/"
        },
        "id": "8np2mbVHSGDn",
        "outputId": "ee733649-ced8-4c5d-ab3b-3214cc25e2a4"
      },
      "source": [
        "dotAB = np.dot(inv_mA,mB) #dot product of inversed matrix A and matrix B\n",
        "print(\"DOT product of inversed matrix A and matrix B\")\n",
        "print(dotAB)"
      ],
      "execution_count": 12,
      "outputs": [
        {
          "output_type": "stream",
          "name": "stdout",
          "text": [
            "DOT product of inversed matrix A and matrix B\n",
            "[[-8.]\n",
            " [ 6.]\n",
            " [ 2.]]\n"
          ]
        }
      ]
    },
    {
      "cell_type": "markdown",
      "metadata": {
        "id": "92Fwf2kxSgvu"
      },
      "source": [
        "*To check if the answer is correct*"
      ]
    },
    {
      "cell_type": "code",
      "metadata": {
        "colab": {
          "base_uri": "https://localhost:8080/"
        },
        "id": "ig9wrD-OShXY",
        "outputId": "b82c1f18-78e1-47a2-f0e2-26e8846de824"
      },
      "source": [
        "check1 = np.dot(mA,dotAB) #dot product of matrix A and dotproduct of matrices A & B , product must be the same with matrix B\n",
        "print(check1)"
      ],
      "execution_count": 14,
      "outputs": [
        {
          "output_type": "stream",
          "name": "stdout",
          "text": [
            "[[ 44.]\n",
            " [128.]\n",
            " [214.]]\n"
          ]
        }
      ]
    }
  ]
}
