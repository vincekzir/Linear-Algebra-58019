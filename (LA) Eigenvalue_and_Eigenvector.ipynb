{
  "nbformat": 4,
  "nbformat_minor": 0,
  "metadata": {
    "colab": {
      "name": "(LA) Eigenvalue and Eigenvector.ipynb",
      "provenance": [],
      "collapsed_sections": [],
      "authorship_tag": "ABX9TyN4lL7wsdfeuNHuuLzAD5D/",
      "include_colab_link": true
    },
    "kernelspec": {
      "name": "python3",
      "display_name": "Python 3"
    },
    "language_info": {
      "name": "python"
    }
  },
  "cells": [
    {
      "cell_type": "markdown",
      "metadata": {
        "id": "view-in-github",
        "colab_type": "text"
      },
      "source": [
        "<a href=\"https://colab.research.google.com/github/vincev16/Linear-Algebra-58019/blob/main/(LA)%20Eigenvalue_and_Eigenvector.ipynb\" target=\"_parent\"><img src=\"https://colab.research.google.com/assets/colab-badge.svg\" alt=\"Open In Colab\"/></a>"
      ]
    },
    {
      "cell_type": "markdown",
      "source": [
        "###EXAMPLE 1"
      ],
      "metadata": {
        "id": "JWRcK6jzQ_hS"
      }
    },
    {
      "cell_type": "code",
      "execution_count": 38,
      "metadata": {
        "colab": {
          "base_uri": "https://localhost:8080/"
        },
        "id": "tDCgG6NIMQYg",
        "outputId": "dfc60e5d-cc2c-4770-cb4a-2bf25ebf20f0"
      },
      "outputs": [
        {
          "output_type": "stream",
          "name": "stdout",
          "text": [
            "Matrix A\n",
            "[[-12   3]\n",
            " [  4   1]]\n",
            "\n",
            " Matrix B / Constant\n",
            "[[0]\n",
            " [0]]\n",
            "\n",
            " Inverse A\n",
            "[[-0.04166667  0.125     ]\n",
            " [ 0.16666667  0.5       ]]\n",
            "\n",
            " Dot Product\n",
            "[[0.]\n",
            " [0.]]\n"
          ]
        }
      ],
      "source": [
        "#should not be use for eigenvalue and eigenvectors. \n",
        "#THIS IS FOR LINEAR TRANSFORMATION\n",
        "\n",
        "import numpy as np\n",
        "\n",
        "matrix_A = np.array([[-12,3],[4,1]])\n",
        "print(\"Matrix A\")\n",
        "print(matrix_A)\n",
        "\n",
        "matrix_B = np.array([[0],[0]])\n",
        "print(\"\\n Matrix B / Constant\")\n",
        "print(matrix_B)\n",
        "\n",
        "invA = np.linalg.inv(matrix_A)\n",
        "print(\"\\n Inverse A\")\n",
        "print(invA)\n",
        "\n",
        "#another method\n",
        "prod = np.dot(invA,matrix_B)\n",
        "print(\"\\n Dot Product\")\n",
        "print(prod)\n",
        "\n",
        "#using scipy\n",
        "#from scipy.linalg import solve\n",
        "#prod2 = solve(matrix_A,matrix_B)\n",
        "#print(\"\\n Dot Product\")\n",
        "#print(prod2)\n",
        "\n",
        "\n"
      ]
    },
    {
      "cell_type": "code",
      "source": [
        "#using eigen AND for eigenvalues and eigenvectors\n",
        "import numpy as np\n",
        "from numpy.linalg import eig\n",
        "\n",
        "A = np.array([[-6,3],[4,5]])\n",
        "print(A)\n",
        "\n",
        "w,v = np.linalg.eig(A)\n",
        "print(\"\\nThe Eigenvalues is/are:\", w)\n",
        "print(\"\\nThe right Eigenvectors are:\\n\", v)\n",
        "print(\"\\n Rounded Vector\")\n",
        "roun1 = v.round()\n",
        "print(roun1)\n"
      ],
      "metadata": {
        "colab": {
          "base_uri": "https://localhost:8080/"
        },
        "id": "_6MpKAd7W65A",
        "outputId": "89a9c1e2-c9a5-475f-aa63-80a119c2c3c0"
      },
      "execution_count": 43,
      "outputs": [
        {
          "output_type": "stream",
          "name": "stdout",
          "text": [
            "[[-6  3]\n",
            " [ 4  5]]\n",
            "\n",
            "The Eigenvalues is/are: [-7.  6.]\n",
            "\n",
            "The right Eigenvectors are:\n",
            " [[-0.9486833  -0.24253563]\n",
            " [ 0.31622777 -0.9701425 ]]\n",
            "\n",
            " Rounded Vector\n",
            "[[-1. -0.]\n",
            " [ 0. -1.]]\n"
          ]
        }
      ]
    },
    {
      "cell_type": "markdown",
      "source": [
        "###EXAMPLE 2"
      ],
      "metadata": {
        "id": "r1S5wa2lZ8gi"
      }
    },
    {
      "cell_type": "code",
      "source": [
        "import numpy as np\n",
        "from numpy.linalg import eig\n",
        "\n",
        "A = np.array([[2,2,4],[1,3,5],[2,3,4]])\n",
        "print(A)\n",
        "\n",
        "s,t = np.linalg.eig(A)\n",
        "print(\"\\nThe Eigenvalues is/are:\", s.round())\n",
        "print(\"The right Eigenvectors are:\\n\", t.round())\n",
        "\n",
        "\n",
        "c = np.dot(A,t.round())\n",
        "print(\"\\nsupposed answers??\")\n",
        "print(c)"
      ],
      "metadata": {
        "colab": {
          "base_uri": "https://localhost:8080/"
        },
        "id": "-TkB-olvaLmC",
        "outputId": "4111a1fe-62f1-4c5a-f4a8-ac278c57d329"
      },
      "execution_count": 60,
      "outputs": [
        {
          "output_type": "stream",
          "name": "stdout",
          "text": [
            "[[2 2 4]\n",
            " [1 3 5]\n",
            " [2 3 4]]\n",
            "\n",
            "The Eigenvalues is/are: [ 9.  1. -1.]\n",
            "The right Eigenvectors are:\n",
            " [[-1. -1. -0.]\n",
            " [-1.  1. -1.]\n",
            " [-1. -0.  1.]]\n",
            "\n",
            "supposed answers??\n",
            "[[-8.  0.  2.]\n",
            " [-9.  2.  2.]\n",
            " [-9.  1.  1.]]\n"
          ]
        }
      ]
    },
    {
      "cell_type": "code",
      "source": [
        "#for checking?\n",
        "\n",
        "f = np.array([[-1],[-1],[-1]])\n",
        "print(f)\n",
        "\n",
        "g = np.dot(A,f)\n",
        "print(\"\\n\")\n",
        "print(g)"
      ],
      "metadata": {
        "colab": {
          "base_uri": "https://localhost:8080/"
        },
        "id": "QkVoa2KsaYb5",
        "outputId": "52149f8a-98bf-4a7b-ca43-b6870c4a89fe"
      },
      "execution_count": 61,
      "outputs": [
        {
          "output_type": "stream",
          "name": "stdout",
          "text": [
            "[[-1]\n",
            " [-1]\n",
            " [-1]]\n",
            "\n",
            "\n",
            "[[-8]\n",
            " [-9]\n",
            " [-9]]\n"
          ]
        }
      ]
    }
  ]
}