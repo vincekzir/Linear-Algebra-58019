{
  "nbformat": 4,
  "nbformat_minor": 0,
  "metadata": {
    "colab": {
      "name": "(LA) Matrix Algebra.ipynb",
      "provenance": [],
      "collapsed_sections": [],
      "authorship_tag": "ABX9TyPtNCK7lbwahxouavQGdIIk",
      "include_colab_link": true
    },
    "kernelspec": {
      "name": "python3",
      "display_name": "Python 3"
    },
    "language_info": {
      "name": "python"
    }
  },
  "cells": [
    {
      "cell_type": "markdown",
      "metadata": {
        "id": "view-in-github",
        "colab_type": "text"
      },
      "source": [
        "<a href=\"https://colab.research.google.com/github/vincev16/Linear-Algebra-58019/blob/main/(LA)%20Matrix_Algebra.ipynb\" target=\"_parent\"><img src=\"https://colab.research.google.com/assets/colab-badge.svg\" alt=\"Open In Colab\"/></a>"
      ]
    },
    {
      "cell_type": "markdown",
      "metadata": {
        "id": "EcBWTeli4Yhl"
      },
      "source": [
        "## Python Program to Inverse"
      ]
    },
    {
      "cell_type": "code",
      "metadata": {
        "colab": {
          "base_uri": "https://localhost:8080/"
        },
        "id": "QwyeJFvJxceL",
        "outputId": "d8c4bf9a-3251-474f-a8cd-e884c7f8ca9a"
      },
      "source": [
        "import numpy as np\n",
        "\n",
        "A = np.array([[1,2],[4,7]])\n",
        "print(A)\n",
        "invA = (np.linalg.inv(A))\n",
        "print(\"\\n\", invA)\n"
      ],
      "execution_count": 26,
      "outputs": [
        {
          "output_type": "stream",
          "name": "stdout",
          "text": [
            "[[1 2]\n",
            " [4 7]]\n",
            "\n",
            " [[-7.  2.]\n",
            " [ 4. -1.]]\n"
          ]
        }
      ]
    },
    {
      "cell_type": "code",
      "metadata": {
        "colab": {
          "base_uri": "https://localhost:8080/"
        },
        "id": "e4LuScDv3wLv",
        "outputId": "516b7fa5-2737-4f36-db0f-a9c20df09245"
      },
      "source": [
        "C = np.dot(A, invA)\n",
        "print(C)"
      ],
      "execution_count": 27,
      "outputs": [
        {
          "output_type": "stream",
          "name": "stdout",
          "text": [
            "[[1. 0.]\n",
            " [0. 1.]]\n"
          ]
        }
      ]
    },
    {
      "cell_type": "markdown",
      "metadata": {
        "id": "ph6vLv8b4p56"
      },
      "source": [
        "## Python Program to Inverse a 3x3 Matrix\n",
        "\n",
        "##### A = [6,1,1], [4,-2,5], [2,8,7]"
      ]
    },
    {
      "cell_type": "code",
      "metadata": {
        "colab": {
          "base_uri": "https://localhost:8080/"
        },
        "id": "xoLwqnNH5Uim",
        "outputId": "65bfa803-630e-4a3f-e403-bc68d0c4bc8d"
      },
      "source": [
        "## Python Program to transpose a 3x3 Matrix\n",
        "\n",
        "mA = np.array([[6,1,1],[4,-2,5],[2,8,7]])\n",
        "print(mA)\n",
        "alter_mA = np.transpose(mA) #changes row to column\n",
        "print(\"\\n\")\n",
        "print(alter_mA)"
      ],
      "execution_count": 42,
      "outputs": [
        {
          "output_type": "stream",
          "name": "stdout",
          "text": [
            "[[ 6  1  1]\n",
            " [ 4 -2  5]\n",
            " [ 2  8  7]]\n",
            "\n",
            "\n",
            "[[ 6  4  2]\n",
            " [ 1 -2  8]\n",
            " [ 1  5  7]]\n"
          ]
        }
      ]
    },
    {
      "cell_type": "code",
      "metadata": {
        "colab": {
          "base_uri": "https://localhost:8080/"
        },
        "id": "cpQScrXO54cs",
        "outputId": "d35b5184-f815-47e0-87d8-d9f649435eb0"
      },
      "source": [
        "## Python Program to inverse a 3x3 Matrix\n",
        "\n",
        "mA = np.array([[6,1,1],[4,-2,5],[2,8,7]])\n",
        "print(mA)\n",
        "inv_mA = (np.linalg.inv(mA)) #matrix B\n",
        "print(\"\\n\")\n",
        "print(inv_mA)"
      ],
      "execution_count": 49,
      "outputs": [
        {
          "output_type": "stream",
          "name": "stdout",
          "text": [
            "[[ 6  1  1]\n",
            " [ 4 -2  5]\n",
            " [ 2  8  7]]\n",
            "\n",
            "\n",
            "[[ 0.17647059 -0.00326797 -0.02287582]\n",
            " [ 0.05882353 -0.13071895  0.08496732]\n",
            " [-0.11764706  0.1503268   0.05228758]]\n"
          ]
        }
      ]
    },
    {
      "cell_type": "markdown",
      "metadata": {
        "id": "jp_r6ccr73fS"
      },
      "source": [
        "## Program Code Product of mA and mB"
      ]
    },
    {
      "cell_type": "code",
      "metadata": {
        "colab": {
          "base_uri": "https://localhost:8080/"
        },
        "id": "wwn9lGEG7m38",
        "outputId": "f92be29c-25d7-4346-b48f-a4ce896e0e4f"
      },
      "source": [
        "productAB = np.dot(mA,inv_mA)\n",
        "print(productAB)"
      ],
      "execution_count": 48,
      "outputs": [
        {
          "output_type": "stream",
          "name": "stdout",
          "text": [
            "[[ 1.00000000e+00  0.00000000e+00  2.77555756e-17]\n",
            " [-1.38777878e-17  1.00000000e+00  1.38777878e-17]\n",
            " [-4.16333634e-17  1.38777878e-16  1.00000000e+00]]\n"
          ]
        }
      ]
    },
    {
      "cell_type": "markdown",
      "metadata": {
        "id": "SpRQEgWx-VgQ"
      },
      "source": [
        "## Coding Activity 3\n",
        "##### Create a Python Program to inverse and transpose a 4x4 matrix,\n",
        "###### A = [6,1,1,3], [4,-2,5,1], [2,8,7,6], [3,1,9,7]"
      ]
    },
    {
      "cell_type": "code",
      "metadata": {
        "colab": {
          "base_uri": "https://localhost:8080/"
        },
        "id": "fGXt9HOx-bg6",
        "outputId": "4c8c8426-4337-4a0e-b81b-2aa41c9a7435"
      },
      "source": [
        "#Python Program to Inverse the given Matrix\n",
        "\n",
        "A = np.array([[6,1,1,3],[4,-2,5,1],[2,8,7,6],[3,1,9,7]]) #the given matrix\n",
        "\n",
        "print(\"Matrix A\") #label for the given matrix\n",
        "print(A)\n",
        "print(\"\\n\")\n",
        "\n",
        "B = np.linalg.inv(A) #used to inverse the matrix\n",
        "print(\"Inversed Matrix A\") #label for the inversed matrix, this is technically matrix B\n",
        "print(B)\n",
        "\n"
      ],
      "execution_count": 60,
      "outputs": [
        {
          "output_type": "stream",
          "name": "stdout",
          "text": [
            "Matrix A\n",
            "[[ 6  1  1  3]\n",
            " [ 4 -2  5  1]\n",
            " [ 2  8  7  6]\n",
            " [ 3  1  9  7]]\n",
            "\n",
            "\n",
            "Inversed Matrix A\n",
            "[[ 0.13368984  0.10695187  0.02139037 -0.09090909]\n",
            " [-0.00229183  0.02673797  0.14820474 -0.12987013]\n",
            " [-0.12987013  0.18181818  0.06493506 -0.02597403]\n",
            " [ 0.11000764 -0.28342246 -0.11382735  0.23376623]]\n"
          ]
        }
      ]
    },
    {
      "cell_type": "code",
      "metadata": {
        "colab": {
          "base_uri": "https://localhost:8080/"
        },
        "id": "w-RlIZ7MBr6N",
        "outputId": "14089f92-2106-4982-bbbe-aa5e8d1d376c"
      },
      "source": [
        "#Program Code of Product of the Matrix A and inversed Matrix A\n",
        "\n",
        "productAB = np.dot(A, B) #used to get the dot product of the two matrices \n",
        "print(\"Product of Matrix A and inversed Matrix A\") #label\n",
        "print(productAB)\n",
        "\n",
        "print(\"\\n\")\n",
        "print(\"Diagonal Elements of the Product\") #label\n",
        "C = np.diagonal(productAB) #used to show the elements in the diagonal position\n",
        "print(C)"
      ],
      "execution_count": 76,
      "outputs": [
        {
          "output_type": "stream",
          "name": "stdout",
          "text": [
            "Product of Matrix A and inversed Matrix A\n",
            "[[ 1.00000000e+00  0.00000000e+00  2.77555756e-17  5.55111512e-17]\n",
            " [-1.24900090e-16  1.00000000e+00 -5.55111512e-17 -2.77555756e-17]\n",
            " [ 2.77555756e-17  0.00000000e+00  1.00000000e+00  1.11022302e-16]\n",
            " [-1.52655666e-16 -2.22044605e-16 -8.32667268e-17  1.00000000e+00]]\n",
            "\n",
            "\n",
            "Diagonal Elements of the Product\n",
            "[1. 1. 1. 1.]\n"
          ]
        }
      ]
    },
    {
      "cell_type": "code",
      "metadata": {
        "colab": {
          "base_uri": "https://localhost:8080/"
        },
        "id": "Sv-MRpk7CuCC",
        "outputId": "4c406eb7-ef79-40ad-98d3-8e8e88c54389"
      },
      "source": [
        "## Python Program to transpose the given matrix\n",
        "\n",
        "A = np.array([[6,1,1,3],[4,-2,5,1],[2,8,7,6],[3,1,9,7]]) #given matrix\n",
        "print(\"Matrix A\") #label for the given matrix\n",
        "print(A)\n",
        "\n",
        "print(\"\\n\")\n",
        "alter_A = np.transpose(A) #used to turn the row or column into column or row, respectively.\n",
        "print(\"Transposed Matrix A\") #label for the transposed matrix\n",
        "print(alter_A)"
      ],
      "execution_count": 77,
      "outputs": [
        {
          "output_type": "stream",
          "name": "stdout",
          "text": [
            "Matrix A\n",
            "[[ 6  1  1  3]\n",
            " [ 4 -2  5  1]\n",
            " [ 2  8  7  6]\n",
            " [ 3  1  9  7]]\n",
            "\n",
            "\n",
            "Transposed Matrix A\n",
            "[[ 6  4  2  3]\n",
            " [ 1 -2  8  1]\n",
            " [ 1  5  7  9]\n",
            " [ 3  1  6  7]]\n"
          ]
        }
      ]
    }
  ]
}