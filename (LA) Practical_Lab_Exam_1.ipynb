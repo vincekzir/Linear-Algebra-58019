{
  "nbformat": 4,
  "nbformat_minor": 0,
  "metadata": {
    "colab": {
      "name": "Practical Lab Exam 1.ipynb",
      "provenance": [],
      "collapsed_sections": [],
      "toc_visible": true,
      "authorship_tag": "ABX9TyPQwq30d9puTP8pyuGaRqiy",
      "include_colab_link": true
    },
    "kernelspec": {
      "name": "python3",
      "display_name": "Python 3"
    },
    "language_info": {
      "name": "python"
    }
  },
  "cells": [
    {
      "cell_type": "markdown",
      "metadata": {
        "id": "view-in-github",
        "colab_type": "text"
      },
      "source": [
        "<a href=\"https://colab.research.google.com/github/vincev16/Linear-Algebra-58019/blob/main/(LA)%20Practical_Lab_Exam_1.ipynb\" target=\"_parent\"><img src=\"https://colab.research.google.com/assets/colab-badge.svg\" alt=\"Open In Colab\"/></a>"
      ]
    },
    {
      "cell_type": "markdown",
      "metadata": {
        "id": "E0MRRz9f4R9S"
      },
      "source": [
        "# Practical Lab Exam 1"
      ]
    },
    {
      "cell_type": "markdown",
      "metadata": {
        "id": "ZH4i7Ocq4Bca"
      },
      "source": [
        "Vince Kazer M. Villasor\n",
        "58019"
      ]
    },
    {
      "cell_type": "markdown",
      "metadata": {
        "id": "TXkMMz4_oXBM"
      },
      "source": [
        "# Problem 1"
      ]
    },
    {
      "cell_type": "code",
      "metadata": {
        "colab": {
          "base_uri": "https://localhost:8080/"
        },
        "id": "xlac7dUjnnqu",
        "outputId": "ecafe7a0-b0ee-481a-f87f-ba5c72c90920"
      },
      "source": [
        "#creating matrix\n",
        "\n",
        "import numpy as np\n",
        "\n",
        "A = np.array([[1,2,3],[4,5,6]]) #matrix A\n",
        "print(\"Matrix A\")\n",
        "print(A)\n",
        "\n",
        "B = np.array([[1,2],[3,4],[5,6]]) #matrix B\n",
        "print(\"\\nMatrix B\")\n",
        "print(B)\n",
        "\n",
        "C = np.array([[1,2,3],[4,5,6],[7,8,9]]) #matrix C\n",
        "print(\"\\nMatrix C\")\n",
        "print(C)\n",
        "\n",
        "D = np.array([[1,2],[3,4]]) #matrix D\n",
        "print(\"\\nMatrix D\")\n",
        "print(D)\n",
        "\n",
        "B1 = np.array([[1,2],[3,4],[5,6]]).reshape(2,3)\n",
        "print(\"\\nRESHAPED Matrix B\")\n",
        "print(B1)\n",
        "\n",
        "print(\"\\n---------\")\n",
        "print(\"a. MULTIPLICATION (mA*reshapedmB)\") #the original matrix B is cannot be used \n",
        "print(A*B1)                                #to multiply with matrix A because they do not have the same shape\n",
        "\n",
        "print(\"\\n---------\")\n",
        "print(\"b. ADDITION (mD+mD)\")\n",
        "sum = np.add(D,D)\n",
        "print(sum)\n",
        "\n",
        "print(\"\\n---------\")\n",
        "print(\"c. MULTIPLICATION (2*C)\")\n",
        "print(2*C)"
      ],
      "execution_count": 47,
      "outputs": [
        {
          "output_type": "stream",
          "name": "stdout",
          "text": [
            "Matrix A\n",
            "[[1 2 3]\n",
            " [4 5 6]]\n",
            "\n",
            "Matrix B\n",
            "[[1 2]\n",
            " [3 4]\n",
            " [5 6]]\n",
            "\n",
            "Matrix C\n",
            "[[1 2 3]\n",
            " [4 5 6]\n",
            " [7 8 9]]\n",
            "\n",
            "Matrix D\n",
            "[[1 2]\n",
            " [3 4]]\n",
            "\n",
            "RESHAPED Matrix B\n",
            "[[1 2 3]\n",
            " [4 5 6]]\n",
            "\n",
            "---------\n",
            "a. MULTIPLICATION (mA*reshapedmB)\n",
            "[[ 1  4  9]\n",
            " [16 25 36]]\n",
            "\n",
            "---------\n",
            "b. ADDITION (mD+mD)\n",
            "[[2 4]\n",
            " [6 8]]\n",
            "\n",
            "---------\n",
            "c. MULTIPLICATION (2*C)\n",
            "[[ 2  4  6]\n",
            " [ 8 10 12]\n",
            " [14 16 18]]\n"
          ]
        }
      ]
    },
    {
      "cell_type": "markdown",
      "metadata": {
        "id": "uUW9EVX_q4Wi"
      },
      "source": [
        "# Problem 2"
      ]
    },
    {
      "cell_type": "code",
      "metadata": {
        "colab": {
          "base_uri": "https://localhost:8080/"
        },
        "id": "AQRihAz3q7S6",
        "outputId": "1da4f66a-68da-4b18-e25a-e493e5a3f0e7"
      },
      "source": [
        "# 0 = 5x + 3y - z (the linear combination)\n",
        "\n",
        "import numpy as np\n",
        "\n",
        "print(\"The Matrix based on the given equation, 0 = 5x + 3y - z:\\n\")\n",
        "equation = np.array([5,3,-1])\n",
        "print(equation)\n",
        "\n",
        "\n",
        "print(\"\\n---------\")\n",
        "print(\"SHAPE\") #i also tested different 1x3 matrix and it always show (3,) as the output for shape\n",
        "print(equation.shape)\n",
        "print(\"(1,3)\")\n",
        "\n",
        "print(\"\\n---------\")\n",
        "print(\"DIMENSION\")\n",
        "print(equation.ndim)\n",
        "\n",
        "print(\"\\n---------\")\n",
        "print(\"SIZE\")\n",
        "print(equation.size)\n",
        "\n",
        "print(\"\\n---------\")\n",
        "print(\"DATA TYPE\")\n",
        "print(equation.dtype)\n",
        "\n",
        "print(\"\\n---------\")\n",
        "print(\"TYPE of MATRIX\")\n",
        "print(\"Row Matrix\")"
      ],
      "execution_count": 49,
      "outputs": [
        {
          "output_type": "stream",
          "name": "stdout",
          "text": [
            "The Matrix based on the given equation, 0 = 5x + 3y - z:\n",
            "\n",
            "[ 5  3 -1]\n",
            "\n",
            "---------\n",
            "SHAPE\n",
            "(3,)\n",
            "(1,3)\n",
            "\n",
            "---------\n",
            "DIMENSION\n",
            "1\n",
            "\n",
            "---------\n",
            "SIZE\n",
            "3\n",
            "\n",
            "---------\n",
            "DATA TYPE\n",
            "int64\n",
            "\n",
            "---------\n",
            "TYPE of MATRIX\n",
            "Row Matrix\n"
          ]
        }
      ]
    }
  ]
}