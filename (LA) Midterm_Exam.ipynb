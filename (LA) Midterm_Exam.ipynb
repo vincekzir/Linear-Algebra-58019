{
  "nbformat": 4,
  "nbformat_minor": 0,
  "metadata": {
    "colab": {
      "name": "(LA) Midterm Exam.ipynb",
      "provenance": [],
      "collapsed_sections": [],
      "authorship_tag": "ABX9TyPUKhUDztBLev7FJdfjJHb9",
      "include_colab_link": true
    },
    "kernelspec": {
      "name": "python3",
      "display_name": "Python 3"
    },
    "language_info": {
      "name": "python"
    }
  },
  "cells": [
    {
      "cell_type": "markdown",
      "metadata": {
        "id": "view-in-github",
        "colab_type": "text"
      },
      "source": [
        "<a href=\"https://colab.research.google.com/github/vincev16/Linear-Algebra-58019/blob/main/(LA)%20Midterm_Exam.ipynb\" target=\"_parent\"><img src=\"https://colab.research.google.com/assets/colab-badge.svg\" alt=\"Open In Colab\"/></a>"
      ]
    },
    {
      "cell_type": "markdown",
      "metadata": {
        "id": "yClj2NZS3d6X"
      },
      "source": [
        "##Question 1. Create a Python code that displays a square matrix whose length is 5 (10 points)"
      ]
    },
    {
      "cell_type": "code",
      "metadata": {
        "colab": {
          "base_uri": "https://localhost:8080/"
        },
        "id": "-HXiekja3XN5",
        "outputId": "482964b8-5126-4532-8cdc-0fe8e6864812"
      },
      "source": [
        "import numpy as np \n",
        "\n",
        "Matrix1 = np.full((5,5),2) #using numpy full function with a 5x5 length and width, full of number 2\n",
        "print(Matrix1)"
      ],
      "execution_count": 49,
      "outputs": [
        {
          "output_type": "stream",
          "name": "stdout",
          "text": [
            "[[2 2 2 2 2]\n",
            " [2 2 2 2 2]\n",
            " [2 2 2 2 2]\n",
            " [2 2 2 2 2]\n",
            " [2 2 2 2 2]]\n"
          ]
        }
      ]
    },
    {
      "cell_type": "markdown",
      "metadata": {
        "id": "AZg-PpZf4rB2"
      },
      "source": [
        "##Question 2. Create a Python code that displays a square matrix whose elements below the principal diagonal are zero (10 points)"
      ]
    },
    {
      "cell_type": "code",
      "metadata": {
        "colab": {
          "base_uri": "https://localhost:8080/"
        },
        "id": "gwCzSjnI4qe6",
        "outputId": "156cf02f-e5d3-434e-d478-74039421745d"
      },
      "source": [
        "Matrix2 = np.triu([[1,2,3],[4,5,6],[7,8,9]]) #using the numpy function 'triu' meaning upper triangular\n",
        "print(Matrix2)\n",
        "\n",
        "#another way\n",
        "Matrix2_1 = np.array([[1,2,3],[0,5,6],[0,0,9]]) #manually inputting the zeroes in the matrix\n",
        "print(\"\\n\")\n",
        "print(Matrix2_1)"
      ],
      "execution_count": 16,
      "outputs": [
        {
          "output_type": "stream",
          "name": "stdout",
          "text": [
            "[[1 2 3]\n",
            " [0 5 6]\n",
            " [0 0 9]]\n",
            "\n",
            "\n",
            "[[1 2 3]\n",
            " [0 5 6]\n",
            " [0 0 9]]\n"
          ]
        }
      ]
    },
    {
      "cell_type": "markdown",
      "metadata": {
        "id": "csIXIM_j5tL-"
      },
      "source": [
        "##Question 3. Create a Python code that displays a square matrix which is symmetrical (10 points)"
      ]
    },
    {
      "cell_type": "code",
      "metadata": {
        "colab": {
          "base_uri": "https://localhost:8080/"
        },
        "id": "K8G-lrw95u1N",
        "outputId": "6e8ad7a1-b9ab-435e-f3dd-c263eaba6a6a"
      },
      "source": [
        "Matrix3 = np.full((3,3),1) #using the numpy full function with 3x3 length and width making it symmetrical square matrix\n",
        "print(Matrix3)"
      ],
      "execution_count": 50,
      "outputs": [
        {
          "output_type": "stream",
          "name": "stdout",
          "text": [
            "[[1 1 1]\n",
            " [1 1 1]\n",
            " [1 1 1]]\n"
          ]
        }
      ]
    },
    {
      "cell_type": "markdown",
      "metadata": {
        "id": "FaCVF0u25xd_"
      },
      "source": [
        "##Question 4. What is the inverse of matrix C? Show your solution by python coding. (20 points)"
      ]
    },
    {
      "cell_type": "code",
      "metadata": {
        "colab": {
          "base_uri": "https://localhost:8080/"
        },
        "id": "9Q6OFfqX5yxs",
        "outputId": "5514d263-8b20-4296-cb25-bd092e7a3087"
      },
      "source": [
        "Matrix4C = np.array([[1,2,3],[2,3,3],[3,4,-2]])\n",
        "print(\"Matrix C\")\n",
        "print(Matrix4C)\n",
        "\n",
        "inverseC = np.linalg.inv(Matrix4C)\n",
        "print(\"\\nInversed Matrix C\")\n",
        "print(inverseC)"
      ],
      "execution_count": 28,
      "outputs": [
        {
          "output_type": "stream",
          "name": "stdout",
          "text": [
            "Matrix C\n",
            "[[ 1  2  3]\n",
            " [ 2  3  3]\n",
            " [ 3  4 -2]]\n",
            "\n",
            "Inversed Matrix C\n",
            "[[-3.6  3.2 -0.6]\n",
            " [ 2.6 -2.2  0.6]\n",
            " [-0.2  0.4 -0.2]]\n"
          ]
        }
      ]
    },
    {
      "cell_type": "markdown",
      "metadata": {
        "id": "-5jfQp6p5zDX"
      },
      "source": [
        "##Question 5. What is the determinant of the given matrix in Question 4? Show your solution by python coding. (20 points)"
      ]
    },
    {
      "cell_type": "code",
      "metadata": {
        "colab": {
          "base_uri": "https://localhost:8080/"
        },
        "id": "v85l-cAx52a8",
        "outputId": "9e90a35d-576e-40a7-ae7a-75f3e3a417d6"
      },
      "source": [
        "print(\"Matrix C\") #displaying matrix C from the previous cell\n",
        "print(Matrix4C) \n",
        "\n",
        "print(\"\\nDeterminant of Matrix C\") #displaying the determinant of matrix\n",
        "print(\"|C| =\",round(np.linalg.det(Matrix4C))) #using the numpt function to get the determinant"
      ],
      "execution_count": 53,
      "outputs": [
        {
          "output_type": "stream",
          "name": "stdout",
          "text": [
            "Matrix C\n",
            "[[ 1  2  3]\n",
            " [ 2  3  3]\n",
            " [ 3  4 -2]]\n",
            "\n",
            "Determinant of Matrix C\n",
            "|C| = 5\n"
          ]
        }
      ]
    },
    {
      "cell_type": "markdown",
      "metadata": {
        "id": "eZ4nABPg52w6"
      },
      "source": [
        "##Question 6. Find the roots of the linear equations by showing its python codes (30 points)\n",
        "\n",
        "5X1 + 4X2 + X3 = 3.4\n",
        "\n",
        "10X1 + 9X2 + 4X3 = 8.8\n",
        "\n",
        "10X1 + 13X2 + 15X3 = 19.2"
      ]
    },
    {
      "cell_type": "code",
      "metadata": {
        "colab": {
          "base_uri": "https://localhost:8080/"
        },
        "id": "TM1WUBBP55fW",
        "outputId": "72bfa374-3a30-46db-92e5-a8c0d465ee4a"
      },
      "source": [
        "Matrix6 = np.array([[5,4,1],[10,9,4],[10,13,15]]) #the matrix based on the given linear equations\n",
        "print(\"Given Matrix A\")\n",
        "print(Matrix6)\n",
        "\n",
        "inverse6 = np.linalg.inv(Matrix6) #inverting matrix A\n",
        "print(\"\\nInversed Matrix A\")\n",
        "print(inverse6)\n",
        "\n",
        "MConstant = np.array([[3.4],[8.8],[19.2]]) #matrix B based on he given linear equations\n",
        "print(\"\\nMatrix B\")\n",
        "print(MConstant)\n",
        "\n",
        "print(\"\\n**To get the value or roots of the equation, proceed using Dot Product to Inversed Matrix A and Matrix B**\") \n",
        "\n",
        "dotAB = np.dot(inverse6,MConstant) #dot product of inversed matrix A and matrix B\n",
        "print(\"\\nDOT product of Inversed Matrix A and Matrix B\")\n",
        "print(dotAB)\n",
        "\n",
        "print(\"\\n**For checking if correct, proceed using Dot product to the solved dot product and Matrix A. The answer must be the same to Matrix B**\")\n",
        "\n",
        "dotAB = np.dot(Matrix6,dotAB) #dot product of inversed matrix A and matrix B\n",
        "print(dotAB)\n",
        "\n",
        "\n",
        "\n"
      ],
      "execution_count": 55,
      "outputs": [
        {
          "output_type": "stream",
          "name": "stdout",
          "text": [
            "Given Matrix A\n",
            "[[ 5  4  1]\n",
            " [10  9  4]\n",
            " [10 13 15]]\n",
            "\n",
            "Inversed Matrix A\n",
            "[[ 5.53333333 -3.13333333  0.46666667]\n",
            " [-7.33333333  4.33333333 -0.66666667]\n",
            " [ 2.66666667 -1.66666667  0.33333333]]\n",
            "\n",
            "Matrix B\n",
            "[[ 3.4]\n",
            " [ 8.8]\n",
            " [19.2]]\n",
            "\n",
            "**To get the value or roots of the equation, proceed using Dot Product to Inversed Matrix A and Matrix B**\n",
            "\n",
            "DOT product of Inversed Matrix A and Matrix B\n",
            "[[0.2]\n",
            " [0.4]\n",
            " [0.8]]\n",
            "\n",
            "**For checking if correct, proceed using Dot product to the solved dot product and Matrix A. The answer must be the same to Matrix B**\n",
            "[[ 3.4]\n",
            " [ 8.8]\n",
            " [19.2]]\n"
          ]
        }
      ]
    }
  ]
}