{
  "nbformat": 4,
  "nbformat_minor": 0,
  "metadata": {
    "colab": {
      "name": "(LA) Application of Systems of Linear Equation.ipynb",
      "provenance": [],
      "collapsed_sections": [
        "T7N-Xf8iJ1wF"
      ],
      "authorship_tag": "ABX9TyM5Vet5C6aLw40rgK3P9GcD",
      "include_colab_link": true
    },
    "kernelspec": {
      "name": "python3",
      "display_name": "Python 3"
    },
    "language_info": {
      "name": "python"
    }
  },
  "cells": [
    {
      "cell_type": "markdown",
      "metadata": {
        "id": "view-in-github",
        "colab_type": "text"
      },
      "source": [
        "<a href=\"https://colab.research.google.com/github/vincev16/Linear-Algebra-58019/blob/main/(LA)%20Application_of_Systems_of_Linear_Equation.ipynb\" target=\"_parent\"><img src=\"https://colab.research.google.com/assets/colab-badge.svg\" alt=\"Open In Colab\"/></a>"
      ]
    },
    {
      "cell_type": "markdown",
      "metadata": {
        "id": "l1JCa9YCJXBN"
      },
      "source": [
        "##**EXAMPLE 1**"
      ]
    },
    {
      "cell_type": "markdown",
      "metadata": {
        "id": "1a0zW40UEtnH"
      },
      "source": [
        "#The Price of One Apple and One Orange\n",
        "\n",
        "20x + 10y = 350\n",
        "\n",
        "17x + 22y = 500"
      ]
    },
    {
      "cell_type": "code",
      "metadata": {
        "colab": {
          "base_uri": "https://localhost:8080/"
        },
        "id": "mi2oK5UdFJ9E",
        "outputId": "2b158fa6-330d-473f-8d65-be6573949b01"
      },
      "source": [
        "import numpy as np\n",
        "\n",
        "A = np.array([[20,10],[17,22]])\n",
        "print(\"Matrix A\")\n",
        "print(A)\n",
        "\n",
        "B = np.array([[350],[500]])\n",
        "print(\"Matrix B\")\n",
        "print(B)\n",
        "\n",
        "invA = np.linalg.inv(A)\n",
        "print(\"Inversed Matrix A\")\n",
        "print(invA)\n",
        "\n",
        "answer = np.linalg.inv(A).dot(B) #method 1\n",
        "print(\"Dot product\")\n",
        "print(answer)\n",
        "\n",
        "answer1 = np.dot(invA,B) #method 2\n",
        "print(\"Dot product\")\n",
        "print(answer1)"
      ],
      "execution_count": 14,
      "outputs": [
        {
          "output_type": "stream",
          "name": "stdout",
          "text": [
            "Matrix A\n",
            "[[20 10]\n",
            " [17 22]]\n",
            "Matrix B\n",
            "[[350]\n",
            " [500]]\n",
            "Inversed Matrix A\n",
            "[[ 0.08148148 -0.03703704]\n",
            " [-0.06296296  0.07407407]]\n",
            "Dot product\n",
            "[[10.]\n",
            " [15.]]\n",
            "Dot product\n",
            "[[10.]\n",
            " [15.]]\n"
          ]
        }
      ]
    },
    {
      "cell_type": "markdown",
      "metadata": {
        "id": "T7N-Xf8iJ1wF"
      },
      "source": [
        "##**Another Way of Solving**"
      ]
    },
    {
      "cell_type": "code",
      "metadata": {
        "colab": {
          "base_uri": "https://localhost:8080/"
        },
        "id": "8jAED5dNJVwQ",
        "outputId": "faae3e4f-389d-4417-8189-9ded8bcb02b5"
      },
      "source": [
        "A = np.array([[20,10],[17,22]])\n",
        "B = np.array([[350],[500]])\n",
        "print(A)\n",
        "print(B)\n",
        "\n",
        "X = np.linalg.solve(A,B) #solving for X and Y using numpy function\n",
        "print(X)"
      ],
      "execution_count": 16,
      "outputs": [
        {
          "output_type": "stream",
          "name": "stdout",
          "text": [
            "[[20 10]\n",
            " [17 22]]\n",
            "[[350]\n",
            " [500]]\n",
            "[[10.]\n",
            " [15.]]\n"
          ]
        }
      ]
    },
    {
      "cell_type": "markdown",
      "metadata": {
        "id": "ms5FsS1yKhue"
      },
      "source": [
        "##*Scipy*"
      ]
    },
    {
      "cell_type": "code",
      "metadata": {
        "colab": {
          "base_uri": "https://localhost:8080/"
        },
        "id": "ya_ndfnaKlU3",
        "outputId": "9162e315-021c-4a2c-f50b-3a5ff06042ef"
      },
      "source": [
        "import numpy as np\n",
        "from scipy.linalg import solve\n",
        "\n",
        "A = np.array([[20,10],[17,22]])\n",
        "B = np.array([[350],[500]])\n",
        "print(A)\n",
        "print(B)\n",
        "\n",
        "X = solve(A,B) #solving for X and Y using scipy function\n",
        "print(X)"
      ],
      "execution_count": 17,
      "outputs": [
        {
          "output_type": "stream",
          "name": "stdout",
          "text": [
            "[[20 10]\n",
            " [17 22]]\n",
            "[[350]\n",
            " [500]]\n",
            "[[10.]\n",
            " [15.]]\n"
          ]
        }
      ]
    },
    {
      "cell_type": "markdown",
      "metadata": {
        "id": "fgq0vtA_LQ0n"
      },
      "source": [
        "##**EXAMPLE 2**"
      ]
    },
    {
      "cell_type": "markdown",
      "metadata": {
        "id": "2Ud42VExLHKX"
      },
      "source": [
        "##Solving for 3 Linear Equations with Unknown Variables of X, Y, and Z\n",
        "\n",
        "4x + 3y + 2z = 25\n",
        "\n",
        "-2x + 2y + 3z = -10\n",
        "\n",
        "3x  - 5y + 2z = -4"
      ]
    },
    {
      "cell_type": "code",
      "metadata": {
        "colab": {
          "base_uri": "https://localhost:8080/"
        },
        "id": "4-o9vfiwLvJ0",
        "outputId": "f12f04a9-d136-4b79-acea-3b746ec8d153"
      },
      "source": [
        "ma = np.array([[4,3,2],[-2,2,3],[3,-5,2]])\n",
        "mb = np.array([[25],[-10],[-4]])\n",
        "print(A)\n",
        "print(B)\n",
        "\n",
        "x1 = solve(ma,mb) #solving for X and Y using scipy function\n",
        "print(x1)"
      ],
      "execution_count": 24,
      "outputs": [
        {
          "output_type": "stream",
          "name": "stdout",
          "text": [
            "[[20 10]\n",
            " [17 22]]\n",
            "[[ 25]\n",
            " [-10]\n",
            " [ -4]]\n",
            "[[ 5.]\n",
            " [ 3.]\n",
            " [-2.]]\n"
          ]
        }
      ]
    }
  ]
}