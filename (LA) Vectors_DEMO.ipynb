{
  "nbformat": 4,
  "nbformat_minor": 0,
  "metadata": {
    "colab": {
      "name": "(LA) Vectors.ipynb",
      "provenance": [],
      "collapsed_sections": [],
      "authorship_tag": "ABX9TyNTDIAQgyoZyvqYwRikSowY",
      "include_colab_link": true
    },
    "kernelspec": {
      "name": "python3",
      "display_name": "Python 3"
    },
    "language_info": {
      "name": "python"
    }
  },
  "cells": [
    {
      "cell_type": "markdown",
      "metadata": {
        "id": "view-in-github",
        "colab_type": "text"
      },
      "source": [
        "<a href=\"https://colab.research.google.com/github/vincev16/Linear-Algebra-58019/blob/main/(LA)%20Vectors_DEMO.ipynb\" target=\"_parent\"><img src=\"https://colab.research.google.com/assets/colab-badge.svg\" alt=\"Open In Colab\"/></a>"
      ]
    },
    {
      "cell_type": "markdown",
      "metadata": {
        "id": "lT9isG1_1N9B"
      },
      "source": [
        "# Matrix Algebra"
      ]
    },
    {
      "cell_type": "code",
      "metadata": {
        "colab": {
          "base_uri": "https://localhost:8080/"
        },
        "id": "FWGNC_2zzFjY",
        "outputId": "6860f255-90e9-4938-cde2-a70901c8b0e5"
      },
      "source": [
        "#numpy\n",
        "import numpy as np\n",
        "a = np.array([1,2,3]) #this is an example of 1x3 matrix\n",
        "print(a)"
      ],
      "execution_count": null,
      "outputs": [
        {
          "output_type": "stream",
          "name": "stdout",
          "text": [
            "[1 2 3]\n"
          ]
        }
      ]
    },
    {
      "cell_type": "code",
      "metadata": {
        "colab": {
          "base_uri": "https://localhost:8080/"
        },
        "id": "lMiUnd9p1vyE",
        "outputId": "b83ecacf-bc47-4a89-c3fc-67a9826f3e87"
      },
      "source": [
        "import numpy as np\n",
        "b = np.array([[1,2,3],[4,5,6]]) #2x3 matrix\n",
        "print(b)"
      ],
      "execution_count": null,
      "outputs": [
        {
          "output_type": "stream",
          "name": "stdout",
          "text": [
            "[[1 2 3]\n",
            " [4 5 6]]\n"
          ]
        }
      ]
    },
    {
      "cell_type": "code",
      "metadata": {
        "colab": {
          "base_uri": "https://localhost:8080/"
        },
        "id": "gB2ZeMr22TlK",
        "outputId": "0986cee8-e277-4798-fa02-69c1c1285f39"
      },
      "source": [
        "import numpy as np\n",
        "c = np.array([[1,2,3],[4,5,6],[7,8,9]]) #3x3 matrix\n",
        "print(c)"
      ],
      "execution_count": null,
      "outputs": [
        {
          "output_type": "stream",
          "name": "stdout",
          "text": [
            "[[1 2 3]\n",
            " [4 5 6]\n",
            " [7 8 9]]\n"
          ]
        }
      ]
    },
    {
      "cell_type": "code",
      "metadata": {
        "colab": {
          "base_uri": "https://localhost:8080/"
        },
        "id": "T0pdtT9J2wD6",
        "outputId": "467c0abe-99c4-4cef-a724-b2546a226ea4"
      },
      "source": [
        "#numpy\n",
        "import numpy as np\n",
        "d1 = np.full((3,3),7)\n",
        "print(d1)"
      ],
      "execution_count": null,
      "outputs": [
        {
          "output_type": "stream",
          "name": "stdout",
          "text": [
            "[[7 7 7]\n",
            " [7 7 7]\n",
            " [7 7 7]]\n"
          ]
        }
      ]
    },
    {
      "cell_type": "code",
      "metadata": {
        "id": "a7j-jthi3Xb-",
        "colab": {
          "base_uri": "https://localhost:8080/"
        },
        "outputId": "d451d13d-b8b2-4d99-c57b-b4caeb375ba7"
      },
      "source": [
        "import numpy as np\n",
        "e = np.array([[1,2,3],[4,5,6],[7,8,9]])\n",
        "print(e)\n",
        "e1 = np.diagonal([[1,2,3],[4,5,6],[7,8,9]])\n",
        "print(e1)"
      ],
      "execution_count": null,
      "outputs": [
        {
          "output_type": "stream",
          "name": "stdout",
          "text": [
            "[[1 2 3]\n",
            " [4 5 6]\n",
            " [7 8 9]]\n",
            "[1 5 9]\n"
          ]
        }
      ]
    },
    {
      "cell_type": "code",
      "metadata": {
        "id": "d5M90Hvp36jI",
        "colab": {
          "base_uri": "https://localhost:8080/"
        },
        "outputId": "0ecf762a-c27a-48d8-c7f0-ffed23d9bbbb"
      },
      "source": [
        "import numpy as np\n",
        "f = np.eye(3)\n",
        "print(f)"
      ],
      "execution_count": null,
      "outputs": [
        {
          "output_type": "stream",
          "name": "stdout",
          "text": [
            "[[1. 0. 0.]\n",
            " [0. 1. 0.]\n",
            " [0. 0. 1.]]\n"
          ]
        }
      ]
    },
    {
      "cell_type": "code",
      "metadata": {
        "id": "OS2P7dJ54FZY",
        "colab": {
          "base_uri": "https://localhost:8080/"
        },
        "outputId": "df3d6bca-18f7-4c97-ab28-3af3a3aa165a"
      },
      "source": [
        "import numpy as np\n",
        "g = np.zeros((2,2))\n",
        "print(g)"
      ],
      "execution_count": null,
      "outputs": [
        {
          "output_type": "stream",
          "name": "stdout",
          "text": [
            "[[0. 0.]\n",
            " [0. 0.]]\n"
          ]
        }
      ]
    },
    {
      "cell_type": "code",
      "metadata": {
        "colab": {
          "base_uri": "https://localhost:8080/"
        },
        "id": "N1exjmaK4V6r",
        "outputId": "26eaa6ad-fe30-4da1-b47a-14108924a768"
      },
      "source": [
        "import numpy as np\n",
        "h = np.empty((0,12))\n",
        "print(h)"
      ],
      "execution_count": null,
      "outputs": [
        {
          "output_type": "stream",
          "name": "stdout",
          "text": [
            "[]\n"
          ]
        }
      ]
    }
  ]
}