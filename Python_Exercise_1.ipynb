{
  "nbformat": 4,
  "nbformat_minor": 0,
  "metadata": {
    "colab": {
      "name": "Python Exercise 1.ipynb",
      "provenance": [],
      "collapsed_sections": [],
      "toc_visible": true,
      "authorship_tag": "ABX9TyO3GgxOxtZ00cwW19eNJifk",
      "include_colab_link": true
    },
    "kernelspec": {
      "name": "python3",
      "display_name": "Python 3"
    },
    "language_info": {
      "name": "python"
    }
  },
  "cells": [
    {
      "cell_type": "markdown",
      "metadata": {
        "id": "view-in-github",
        "colab_type": "text"
      },
      "source": [
        "<a href=\"https://colab.research.google.com/github/vincev16/Linear-Algebra-58019/blob/main/Python_Exercise_1.ipynb\" target=\"_parent\"><img src=\"https://colab.research.google.com/assets/colab-badge.svg\" alt=\"Open In Colab\"/></a>"
      ]
    },
    {
      "cell_type": "markdown",
      "metadata": {
        "id": "w-Nm_Lg88B6g"
      },
      "source": [
        "# Matrix and Its Operation"
      ]
    },
    {
      "cell_type": "code",
      "metadata": {
        "colab": {
          "base_uri": "https://localhost:8080/"
        },
        "id": "yzFGqle3770U",
        "outputId": "2b0664d4-7a87-4761-aef4-49186061e745"
      },
      "source": [
        "#numpy\n",
        "import numpy as ex1\n",
        "\n",
        "\n",
        "A = ex1.array([[-5,0],[4,1]])\n",
        "print(\"matrix A\")\n",
        "print(a)\n",
        "\n",
        "B = ex1.array([[6,-3],[2,3]])\n",
        "print(\"\\nmatrix B\")\n",
        "print(B)\n",
        "\n",
        "print(\"\\n---------\")\n",
        "print(\"ADDITION (mA+mB)\")\n",
        "print(A+B)\n",
        "\n",
        "print(\"\\n---------\")\n",
        "print(\"SUBTRACTION1(mB-mA)\")\n",
        "print(B-A)\n",
        "\n",
        "print(\"\\n---------\")\n",
        "print(\"SUBTRACTION2(mA-mB)\")\n",
        "print(A-B)"
      ],
      "execution_count": 19,
      "outputs": [
        {
          "output_type": "stream",
          "name": "stdout",
          "text": [
            "matrix A\n",
            "[[-5  0]\n",
            " [ 4  1]]\n",
            "\n",
            "matrix B\n",
            "[[ 6 -3]\n",
            " [ 2  3]]\n",
            "\n",
            "---------\n",
            "ADDITION (mA+mB)\n",
            "[[ 1 -3]\n",
            " [ 6  4]]\n",
            "\n",
            "---------\n",
            "SUBTRACTION1(mB-mA)\n",
            "[[11 -3]\n",
            " [-2  2]]\n",
            "\n",
            "---------\n",
            "SUBTRACTION2(mA-mB)\n",
            "[[-11   3]\n",
            " [  2  -2]]\n"
          ]
        }
      ]
    }
  ]
}