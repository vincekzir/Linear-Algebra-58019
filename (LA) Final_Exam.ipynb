{
  "nbformat": 4,
  "nbformat_minor": 0,
  "metadata": {
    "colab": {
      "name": "(LA) Final Exam.ipynb",
      "provenance": [],
      "collapsed_sections": [],
      "authorship_tag": "ABX9TyOx4qPcvnG7AkENJsRdRtjK",
      "include_colab_link": true
    },
    "kernelspec": {
      "name": "python3",
      "display_name": "Python 3"
    },
    "language_info": {
      "name": "python"
    }
  },
  "cells": [
    {
      "cell_type": "markdown",
      "metadata": {
        "id": "view-in-github",
        "colab_type": "text"
      },
      "source": [
        "<a href=\"https://colab.research.google.com/github/vincev16/Linear-Algebra-58019/blob/main/(LA)%20Final_Exam.ipynb\" target=\"_parent\"><img src=\"https://colab.research.google.com/assets/colab-badge.svg\" alt=\"Open In Colab\"/></a>"
      ]
    },
    {
      "cell_type": "markdown",
      "source": [
        "#Final Exam\n",
        "\n",
        "\n",
        "VINCE KAZER M. VILLASOR"
      ],
      "metadata": {
        "id": "yXzhsboDGwBb"
      }
    },
    {
      "cell_type": "markdown",
      "source": [
        "**Problem 1. Student A, Student B, and Student C have a total of Php 89 cash in their banks. Student A has 6 less than Student C. Student B has 3 times what Student C has. How much does each student have? (30 points)**"
      ],
      "metadata": {
        "id": "DkzdrgchG2GK"
      }
    },
    {
      "cell_type": "code",
      "execution_count": 90,
      "metadata": {
        "colab": {
          "base_uri": "https://localhost:8080/"
        },
        "id": "P37bWn6dGsvG",
        "outputId": "b6db4c4a-e69a-4036-af10-6543b1229f45"
      },
      "outputs": [
        {
          "output_type": "stream",
          "name": "stdout",
          "text": [
            "A + B + C = 89\n",
            "A = C - 6\n",
            "B = 3C\n",
            "\n",
            "Substitute A and B to the first equation\n",
            "C-6 + 3C + C = 89\n",
            "\n",
            "Then solve\n",
            "5C = 95\n",
            "\n",
            "C = 19\n",
            "A = 13\n",
            "B = 57\n"
          ]
        }
      ],
      "source": [
        "print(\"A + B + C = 89\")\n",
        "print(\"A = C - 6\")\n",
        "print(\"B = 3C\")\n",
        "\n",
        "print(\"\\nSubstitute A and B to the first equation\")\n",
        "print(\"C-6 + 3C + C = 89\")\n",
        "print(\"\\nThen solve\")\n",
        "print(\"5C = 95\")\n",
        "\n",
        "print(\"\\nC = 19\")\n",
        "C = 19\n",
        "print(\"A =\", C - 6)\n",
        "print(\"B =\", 3*C)"
      ]
    },
    {
      "cell_type": "markdown",
      "source": [
        "**Problem 2. Solve each system: (30 points)**\n",
        "\n",
        "3x - y + z = 5\n",
        "\n",
        "9x - 3y +3z = 15\n",
        "\n",
        "-12x +4y -4z = -20 "
      ],
      "metadata": {
        "id": "ju9LbbbDHCNu"
      }
    },
    {
      "cell_type": "code",
      "source": [
        "#solving the equation using scipy function\n",
        "\n",
        "import numpy as np\n",
        "from scipy.linalg import solve\n",
        "\n",
        "A2 = np.array([[3,-1,1],[9,-3,3],[-12,4,-4]])\n",
        "print(\"The given matrix A\")\n",
        "print(A2)\n",
        "\n",
        "B2 = np.array([[5],[15],[-20]])\n",
        "print(\"\\nThe given matrix on the right side of the equation\")\n",
        "print(B2)\n",
        "\n",
        "#X = solve(A2,B2)\n",
        "#print(X)\n",
        "\n",
        "print(\"\\nNote: The given matrix have is inconsistent that resulted to a SINGULAR MATRIX meaning the determinant is equal to ZERO or simply has no determinant \\n where INVERSE MATRIX for the given is not possible hence making the linear equation unsolvable\")\n",
        "\n"
      ],
      "metadata": {
        "colab": {
          "base_uri": "https://localhost:8080/"
        },
        "id": "elsAXSrMHHNe",
        "outputId": "0aae658d-b7f0-4602-d773-43d502d790b9"
      },
      "execution_count": 84,
      "outputs": [
        {
          "output_type": "stream",
          "name": "stdout",
          "text": [
            "The given matrix A\n",
            "[[  3  -1   1]\n",
            " [  9  -3   3]\n",
            " [-12   4  -4]]\n",
            "\n",
            "The given matrix on the right side of the equation\n",
            "[[  5]\n",
            " [ 15]\n",
            " [-20]]\n",
            "\n",
            "Note: The given matrix have is inconsistent that resulted to a SINGULAR MATRIX meaning the determinant is equal to ZERO or simply has no determinant \n",
            " where INVERSE MATRIX for the given is not possible hence making the linear equation unsolvable\n"
          ]
        }
      ]
    },
    {
      "cell_type": "markdown",
      "source": [
        "**Problem 3. \n",
        "Find the eigenvalue/s\n",
        "Find the eigenvectors**"
      ],
      "metadata": {
        "id": "-nDqfu19HHsL"
      }
    },
    {
      "cell_type": "code",
      "source": [
        "#using eigen from numpy to find for the eigenvalues and eigenvectors of the given matrix\n",
        "\n",
        "import numpy as np\n",
        "from numpy.linalg import eig\n",
        "\n",
        "mA = np.array([[8,5,-6],[-12,-9,12],[-3,-3,5]])\n",
        "print(\"Matrix A\")\n",
        "print(mA)\n",
        "\n",
        "w,v = np.linalg.eig(mA)\n",
        "print(\"\\nThe Eigenvalues are:\", w.round())\n",
        "print(\"\\nTHe Eigenvectors are:\\n\", v.round())\n",
        "\n",
        "b = np.dot(mA,v.round())\n",
        "print(\"\\nAnswers\")\n",
        "print(b)\n",
        "\n",
        "#for checking?\n",
        "print(\"\\nFrom one column of Eigenvectors\")\n",
        "c = np.array([[0],[-1],[-0]]) #change the value depending on the Eigenvectors the user want to check\n",
        "print(c)\n",
        "\n",
        "d = np.dot(mA, c)\n",
        "print(\"\\nThe answer should be the same to the same column of the Answers\")\n",
        "print(d)\n"
      ],
      "metadata": {
        "colab": {
          "base_uri": "https://localhost:8080/"
        },
        "id": "BbFUq3I0HQPH",
        "outputId": "c0bdb094-803a-461a-9be9-570bc52adb30"
      },
      "execution_count": 91,
      "outputs": [
        {
          "output_type": "stream",
          "name": "stdout",
          "text": [
            "Matrix A\n",
            "[[  8   5  -6]\n",
            " [-12  -9  12]\n",
            " [ -3  -3   5]]\n",
            "\n",
            "The Eigenvalues are: [-1.  3.  2.]\n",
            "\n",
            "THe Eigenvectors are:\n",
            " [[ 0. -1.  1.]\n",
            " [-1.  1.  0.]\n",
            " [-0. -0.  1.]]\n",
            "\n",
            "Answers\n",
            "[[-5. -3.  2.]\n",
            " [ 9.  3.  0.]\n",
            " [ 3.  0.  2.]]\n",
            "\n",
            "From one column of Eigenvectors\n",
            "[[ 0]\n",
            " [-1]\n",
            " [ 0]]\n",
            "\n",
            "The answer should be the same to the same column of the Answers\n",
            "[[-5]\n",
            " [ 9]\n",
            " [ 3]]\n"
          ]
        }
      ]
    }
  ]
}