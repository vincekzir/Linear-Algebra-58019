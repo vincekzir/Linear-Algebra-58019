{
  "nbformat": 4,
  "nbformat_minor": 0,
  "metadata": {
    "colab": {
      "name": "(LA) Determinant of Matrix.ipynb",
      "provenance": [],
      "collapsed_sections": [],
      "authorship_tag": "ABX9TyNosoAy70NzQi9DIpvYuQIe",
      "include_colab_link": true
    },
    "kernelspec": {
      "name": "python3",
      "display_name": "Python 3"
    },
    "language_info": {
      "name": "python"
    }
  },
  "cells": [
    {
      "cell_type": "markdown",
      "metadata": {
        "id": "view-in-github",
        "colab_type": "text"
      },
      "source": [
        "<a href=\"https://colab.research.google.com/github/vincev16/Linear-Algebra-58019/blob/main/(LA)%20Determinant_of_Matrix.ipynb\" target=\"_parent\"><img src=\"https://colab.research.google.com/assets/colab-badge.svg\" alt=\"Open In Colab\"/></a>"
      ]
    },
    {
      "cell_type": "code",
      "metadata": {
        "colab": {
          "base_uri": "https://localhost:8080/"
        },
        "id": "XPdRVotr_8Fz",
        "outputId": "46a0c0aa-ab1a-49ed-c1e0-cfab0d3a5645"
      },
      "source": [
        "#solving for the determinant of the given matrix\n",
        "\n",
        "import numpy as np #numerical python \n",
        "A = np.array([[1,2,-1],[4,6,-2],[-1,3,3]]) #the given array\n",
        "\n",
        "print(\"Matrix A\") #displaying the matrix\n",
        "print(A)\n",
        "print(\"\\n\")\n",
        "print(\"Determinant of Matrix A\") #displaying the determinant of matrix\n",
        "print(\"|A| =\",round(np.linalg.det(A)))"
      ],
      "execution_count": 22,
      "outputs": [
        {
          "output_type": "stream",
          "name": "stdout",
          "text": [
            "Matrix A\n",
            "[[ 1  2 -1]\n",
            " [ 4  6 -2]\n",
            " [-1  3  3]]\n",
            "\n",
            "\n",
            "Determinant of Matrix A\n",
            "|A| = -14\n"
          ]
        }
      ]
    }
  ]
}