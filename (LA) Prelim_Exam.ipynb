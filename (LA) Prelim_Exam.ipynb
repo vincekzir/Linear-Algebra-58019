{
  "nbformat": 4,
  "nbformat_minor": 0,
  "metadata": {
    "colab": {
      "name": "(LA) Prelim Exam.ipynb",
      "provenance": [],
      "collapsed_sections": [],
      "toc_visible": true,
      "authorship_tag": "ABX9TyOCZ/6WlDazF9gj4szLWt1Z",
      "include_colab_link": true
    },
    "kernelspec": {
      "name": "python3",
      "display_name": "Python 3"
    },
    "language_info": {
      "name": "python"
    }
  },
  "cells": [
    {
      "cell_type": "markdown",
      "metadata": {
        "id": "view-in-github",
        "colab_type": "text"
      },
      "source": [
        "<a href=\"https://colab.research.google.com/github/vincev16/Linear-Algebra-58019/blob/main/(LA)%20Prelim_Exam.ipynb\" target=\"_parent\"><img src=\"https://colab.research.google.com/assets/colab-badge.svg\" alt=\"Open In Colab\"/></a>"
      ]
    },
    {
      "cell_type": "markdown",
      "metadata": {
        "id": "7XSI-ENnhH0y"
      },
      "source": [
        "# PRELIM EXAM\n",
        "Vince Kazer M. Villasor (58019)"
      ]
    },
    {
      "cell_type": "markdown",
      "metadata": {
        "id": "BJKB1ZRLhP73"
      },
      "source": [
        "# Question #1\n",
        "Create a 4 x 4 matrix whose diagonal elements are all one (1's). Name it as matrix \"C\". Show your solutions using Python codes and do not forget to label them on the Text Cell."
      ]
    },
    {
      "cell_type": "code",
      "metadata": {
        "colab": {
          "base_uri": "https://localhost:8080/"
        },
        "id": "ekj_lbDBhG1n",
        "outputId": "9bc0649e-0923-4a07-9116-eb6d755118cd"
      },
      "source": [
        "import numpy as np\n",
        "matrixC = np.array([[1,2,3,4],[5,1,7,8],[9,10,1,12],[13,14,15,1]]) #4x4 matrix with diagonal elements of one\n",
        "C1 = np.diagonal([[1,2,3,4],[5,1,7,8],[9,10,1,12],[13,14,15,1]]) #used to show the diagonal elements in matrix C\n",
        "\n",
        "#displaying the matrix' name\n",
        "print(\"Matrix C\") #the matrix' name\n",
        "print(matrixC)\n",
        "\n",
        "#displaying the diagonal elements\n",
        "print(\"\\n---------\")\n",
        "print(\"Diagonal Elements\")\n",
        "print(C1)"
      ],
      "execution_count": 37,
      "outputs": [
        {
          "output_type": "stream",
          "name": "stdout",
          "text": [
            "Matrix C\n",
            "[[ 1  2  3  4]\n",
            " [ 5  1  7  8]\n",
            " [ 9 10  1 12]\n",
            " [13 14 15  1]]\n",
            "\n",
            "---------\n",
            "Diagonal Elements\n",
            "[1 1 1 1]\n"
          ]
        }
      ]
    },
    {
      "cell_type": "markdown",
      "metadata": {
        "id": "6o3uKB3oix7q"
      },
      "source": [
        "# Question #2\n",
        "In relation to Question 1, show a solution that doubles all the values of each element. Show your solutions using Python codes and do not forget to label them on the Text Cell."
      ]
    },
    {
      "cell_type": "code",
      "metadata": {
        "colab": {
          "base_uri": "https://localhost:8080/"
        },
        "id": "9b9UYq60iS5b",
        "outputId": "cbded97d-89f5-4e35-f70d-b00a958443e2"
      },
      "source": [
        "import numpy as np\n",
        "matrixC= np.array([[1,2,3,4],[5,1,7,8],[9,10,1,12],[13,14,15,1]]) #4x4 matrix with diagonal elements of one\n",
        "Prod = 2*C #this the a scaling process\n",
        "\n",
        "#displaying the matrix' name\n",
        "print(\"Matrix C\") \n",
        "print(matrixC)\n",
        "\n",
        "#displaying the product\n",
        "print(\"\\n---------\")\n",
        "print(\"Doubled value of Matrix C\")\n",
        "print(\"(2 * Matrix C)\\n\")\n",
        "\n",
        "print(Prod)\n",
        "#it will turn all the diagonal elements into two\n"
      ],
      "execution_count": 36,
      "outputs": [
        {
          "output_type": "stream",
          "name": "stdout",
          "text": [
            "Matrix C\n",
            "[[ 1  2  3  4]\n",
            " [ 5  1  7  8]\n",
            " [ 9 10  1 12]\n",
            " [13 14 15  1]]\n",
            "\n",
            "---------\n",
            "Doubled value of Matrix C\n",
            "(2 * Matrix C)\n",
            "\n",
            "[[ 2  4  6  8]\n",
            " [10  2 14 16]\n",
            " [18 20  2 24]\n",
            " [26 28 30  2]]\n"
          ]
        }
      ]
    },
    {
      "cell_type": "markdown",
      "metadata": {
        "id": "Ny21UGv-mAAM"
      },
      "source": [
        "# Question #3\n",
        "Find the cross-product of matrices, A = [2,7,4] and B = [3,9,8]. Show your solutions using Python codes and do not forget to label them on the Text Cell."
      ]
    },
    {
      "cell_type": "code",
      "metadata": {
        "colab": {
          "base_uri": "https://localhost:8080/"
        },
        "id": "YzQQWcc5mQ_8",
        "outputId": "546caf03-868c-4fc2-918b-c4ee8ea94726"
      },
      "source": [
        "import numpy as np\n",
        "mA = np.array([2,7,4]) #matrix A\n",
        "mB = np.array([3,9,8]) #matrix A\n",
        "crossprod = np.cross(mA,mB) #computing the cross product\n",
        "\n",
        "#displaying the matrices\n",
        "print(\"Matrix A\") \n",
        "print(mA)\n",
        "print(\"\\nMatrix B\")\n",
        "print(mB)\n",
        "\n",
        "#displaying the product\n",
        "print(\"\\n---------\")\n",
        "print(\"Cross Product\")\n",
        "print(crossprod)\n"
      ],
      "execution_count": 30,
      "outputs": [
        {
          "output_type": "stream",
          "name": "stdout",
          "text": [
            "Matrix A\n",
            "[2 7 4]\n",
            "\n",
            "Matrix B\n",
            "[3 9 8]\n",
            "\n",
            "---------\n",
            "Cross Product\n",
            "[20 -4 -3]\n"
          ]
        }
      ]
    }
  ]
}