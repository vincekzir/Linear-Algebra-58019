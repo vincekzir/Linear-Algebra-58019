{
  "nbformat": 4,
  "nbformat_minor": 0,
  "metadata": {
    "colab": {
      "name": "(LA) Linear Transformation.ipynb",
      "provenance": [],
      "collapsed_sections": [],
      "authorship_tag": "ABX9TyNFUFCHdKnG/hH22ign9n6d",
      "include_colab_link": true
    },
    "kernelspec": {
      "name": "python3",
      "display_name": "Python 3"
    },
    "language_info": {
      "name": "python"
    }
  },
  "cells": [
    {
      "cell_type": "markdown",
      "metadata": {
        "id": "view-in-github",
        "colab_type": "text"
      },
      "source": [
        "<a href=\"https://colab.research.google.com/github/vincev16/Linear-Algebra-58019/blob/main/(LA)%20Linear_Transformation.ipynb\" target=\"_parent\"><img src=\"https://colab.research.google.com/assets/colab-badge.svg\" alt=\"Open In Colab\"/></a>"
      ]
    },
    {
      "cell_type": "markdown",
      "metadata": {
        "id": "h10mFNzwDSNo"
      },
      "source": [
        "### To find the inverse of a matrix, the matrix is passed to to the linalg.in() of the NumPy module"
      ]
    },
    {
      "cell_type": "markdown",
      "metadata": {
        "id": "8bv3T0XxOkxm"
      },
      "source": [
        "##**EXAMPLE OF SOLVING 2 LINEAR EQUATIONS**"
      ]
    },
    {
      "cell_type": "code",
      "metadata": {
        "colab": {
          "base_uri": "https://localhost:8080/"
        },
        "id": "QDQ-PWSwAI0o",
        "outputId": "5815636d-95cc-413a-efc1-30d6e9b5a5a2"
      },
      "source": [
        "import numpy as np\n",
        "\n",
        "A = np.array([[4,3],[-5,9]]) #creation of matrix A\n",
        "print(A)\n",
        "\n",
        "inv_A = np.linalg.inv(A) #creation of inversed matrix A\n",
        "print(inv_A)"
      ],
      "execution_count": 4,
      "outputs": [
        {
          "output_type": "stream",
          "name": "stdout",
          "text": [
            "[[ 4  3]\n",
            " [-5  9]]\n",
            "[[ 0.17647059 -0.05882353]\n",
            " [ 0.09803922  0.07843137]]\n"
          ]
        }
      ]
    },
    {
      "cell_type": "code",
      "metadata": {
        "colab": {
          "base_uri": "https://localhost:8080/"
        },
        "id": "Yl01wYaOFkn3",
        "outputId": "16944cd2-6db7-4675-8da9-371aa3185968"
      },
      "source": [
        "B = np.array([[20],[26]]) #creation of matrix b\n",
        "print(B)"
      ],
      "execution_count": 7,
      "outputs": [
        {
          "output_type": "stream",
          "name": "stdout",
          "text": [
            "[[20]\n",
            " [26]]\n"
          ]
        }
      ]
    },
    {
      "cell_type": "code",
      "metadata": {
        "colab": {
          "base_uri": "https://localhost:8080/"
        },
        "id": "ovj4_UtgGJ6Z",
        "outputId": "d8033a83-f78d-42e4-eb5d-d761a13f5392"
      },
      "source": [
        "X = np.linalg.inv(A).dot(B) #dot product of inversed matrix A and matrix B\n",
        "print(X)"
      ],
      "execution_count": 9,
      "outputs": [
        {
          "output_type": "stream",
          "name": "stdout",
          "text": [
            "[[2.]\n",
            " [4.]]\n"
          ]
        }
      ]
    },
    {
      "cell_type": "code",
      "metadata": {
        "colab": {
          "base_uri": "https://localhost:8080/"
        },
        "id": "2tF5PPm-GZjm",
        "outputId": "3d38a7dd-cb83-4024-b878-2fcad93396fb"
      },
      "source": [
        "#another method to solve for dot product \n",
        "X =np.dot(inv_A,B) \n",
        "print(X)"
      ],
      "execution_count": 10,
      "outputs": [
        {
          "output_type": "stream",
          "name": "stdout",
          "text": [
            "[[2.]\n",
            " [4.]]\n"
          ]
        }
      ]
    },
    {
      "cell_type": "markdown",
      "metadata": {
        "id": "JfEtU_vHHU6B"
      },
      "source": [
        "##**EXAMPLE OF SOLVING 3 LINEAR EQUATIONS**\n"
      ]
    },
    {
      "cell_type": "code",
      "metadata": {
        "colab": {
          "base_uri": "https://localhost:8080/"
        },
        "id": "begQKMDCHXGI",
        "outputId": "6fd39d0e-f953-4df0-c6b2-c208bd7115c7"
      },
      "source": [
        "A1 = np.array([[4,3,2],[-2,9,3],[3,-5,2]]) #creation of matrix A1\n",
        "print(\"Matrix A1\")\n",
        "print(A1)\n",
        "\n",
        "inv_A1 = np.linalg.inv(A1) #inversed matrix A1\n",
        "print(\"INVERSED Matrix A1\")\n",
        "print(inv_A1)"
      ],
      "execution_count": 26,
      "outputs": [
        {
          "output_type": "stream",
          "name": "stdout",
          "text": [
            "Matrix A1\n",
            "[[ 4  3  2]\n",
            " [-2  9  3]\n",
            " [ 3 -5  2]]\n",
            "INVERSED Matrix A1\n",
            "[[ 0.24087591 -0.11678832 -0.06569343]\n",
            " [ 0.09489051  0.01459854 -0.11678832]\n",
            " [-0.12408759  0.21167883  0.30656934]]\n"
          ]
        }
      ]
    },
    {
      "cell_type": "code",
      "metadata": {
        "colab": {
          "base_uri": "https://localhost:8080/"
        },
        "id": "muR5jS_CHo7U",
        "outputId": "6ccfe5d0-a38c-41f0-a1dc-f6a3aca281cb"
      },
      "source": [
        "B1 = np.array([[25],[-10],[-4]]) #creation of matrix B\n",
        "print(\"Matrix B1\")\n",
        "print(B1)"
      ],
      "execution_count": 27,
      "outputs": [
        {
          "output_type": "stream",
          "name": "stdout",
          "text": [
            "Matrix B1\n",
            "[[ 25]\n",
            " [-10]\n",
            " [ -4]]\n"
          ]
        }
      ]
    },
    {
      "cell_type": "code",
      "metadata": {
        "colab": {
          "base_uri": "https://localhost:8080/"
        },
        "id": "IpyTVmwWH5MS",
        "outputId": "3f611f54-e3b6-40bb-be61-8fbee336b836"
      },
      "source": [
        "X1 = np.dot(inv_A1,B1) #dot product of inversed matrix A1 and matrix B1 \n",
        "print(\"DOT product of inversed matrix A1 and B1\")\n",
        "print(X1)"
      ],
      "execution_count": 29,
      "outputs": [
        {
          "output_type": "stream",
          "name": "stdout",
          "text": [
            "DOT product of inversed matrix A1 and B1\n",
            "[[ 7.45255474]\n",
            " [ 2.69343066]\n",
            " [-6.44525547]]\n"
          ]
        }
      ]
    },
    {
      "cell_type": "markdown",
      "metadata": {
        "id": "pvVeP0CMODgF"
      },
      "source": [
        "*To check if the answer is correct*"
      ]
    },
    {
      "cell_type": "code",
      "metadata": {
        "colab": {
          "base_uri": "https://localhost:8080/"
        },
        "id": "feum9mwwOGyV",
        "outputId": "defa8e69-94ab-470e-a070-c5422b6a7c51"
      },
      "source": [
        "check = np.dot(A1,X1)\n",
        "print(check) #must be the same as matrix B1"
      ],
      "execution_count": 25,
      "outputs": [
        {
          "output_type": "stream",
          "name": "stdout",
          "text": [
            "[[ 25.]\n",
            " [-10.]\n",
            " [ -4.]]\n"
          ]
        }
      ]
    },
    {
      "cell_type": "markdown",
      "metadata": {
        "id": "CPYeLJTJLkNY"
      },
      "source": [
        "##**APPLICATION / WORD PROBLEM**\n"
      ]
    },
    {
      "cell_type": "code",
      "metadata": {
        "colab": {
          "base_uri": "https://localhost:8080/"
        },
        "id": "EW7YBLt7LndR",
        "outputId": "e0d4d41f-2859-4556-f523-cc4c2140faa7"
      },
      "source": [
        "givenA = np.array([[20,10],[17,22]]) #creation of matrix A\n",
        "print(givenA)\n",
        "\n",
        "i_givenA = np.linalg.inv(givenA) #inversed of matrix A\n",
        "print(i_givenA)"
      ],
      "execution_count": 19,
      "outputs": [
        {
          "output_type": "stream",
          "name": "stdout",
          "text": [
            "[[20 10]\n",
            " [17 22]]\n",
            "[[ 0.08148148 -0.03703704]\n",
            " [-0.06296296  0.07407407]]\n"
          ]
        }
      ]
    },
    {
      "cell_type": "code",
      "metadata": {
        "colab": {
          "base_uri": "https://localhost:8080/"
        },
        "id": "4uUGfkiKMYNv",
        "outputId": "55bcba7c-1edc-4c37-e97c-f0c6bc9c7d87"
      },
      "source": [
        "constantB = np.array([[350],[500]]) #creation of matrix B\n",
        "print(constantB)"
      ],
      "execution_count": 20,
      "outputs": [
        {
          "output_type": "stream",
          "name": "stdout",
          "text": [
            "[[350]\n",
            " [500]]\n"
          ]
        }
      ]
    },
    {
      "cell_type": "code",
      "metadata": {
        "colab": {
          "base_uri": "https://localhost:8080/"
        },
        "id": "eiequ3ahMg8p",
        "outputId": "c17e9179-33ca-4ea5-c515-152731ead7d8"
      },
      "source": [
        "dotX = np.dot(i_givenA,constantB) #dot product of inversed matrix A and matrix B\n",
        "print(dotX)"
      ],
      "execution_count": 21,
      "outputs": [
        {
          "output_type": "stream",
          "name": "stdout",
          "text": [
            "[[10.]\n",
            " [15.]]\n"
          ]
        }
      ]
    },
    {
      "cell_type": "markdown",
      "metadata": {
        "id": "fcOFCbtcNr3k"
      },
      "source": [
        "*To check if the answer is correct*"
      ]
    },
    {
      "cell_type": "code",
      "metadata": {
        "colab": {
          "base_uri": "https://localhost:8080/"
        },
        "id": "6zrDWa3DNrXx",
        "outputId": "544b4842-30c2-4a20-d824-038fae1591cb"
      },
      "source": [
        "B = np.dot(givenA,dotX)\n",
        "print(B)"
      ],
      "execution_count": 24,
      "outputs": [
        {
          "output_type": "stream",
          "name": "stdout",
          "text": [
            "[[350.]\n",
            " [500.]]\n"
          ]
        }
      ]
    }
  ]
}